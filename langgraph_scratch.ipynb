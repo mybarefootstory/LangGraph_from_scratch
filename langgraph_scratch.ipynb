{
 "cells": [
  {
   "cell_type": "markdown",
   "id": "f8e9af3a",
   "metadata": {},
   "source": [
    "## This is a simple workflow with graph"
   ]
  },
  {
   "cell_type": "code",
   "execution_count": 58,
   "id": "d4258396",
   "metadata": {},
   "outputs": [],
   "source": [
    "def function3(input3):\n",
    "    return input3"
   ]
  },
  {
   "cell_type": "code",
   "execution_count": 59,
   "id": "12c7ce2d",
   "metadata": {},
   "outputs": [],
   "source": [
    "def function1(input1):\n",
    "    return input1 + \" from first function\"\n",
    "\n",
    "def function2(input2):\n",
    "    output = function3(\" this is function 3 in between\")\n",
    "    return input2 + output + \" from second function\""
   ]
  },
  {
   "cell_type": "code",
   "execution_count": 60,
   "id": "ecf8e10b",
   "metadata": {},
   "outputs": [],
   "source": [
    "from langgraph.graph import Graph"
   ]
  },
  {
   "cell_type": "code",
   "execution_count": 61,
   "id": "35d19eeb",
   "metadata": {},
   "outputs": [],
   "source": [
    "workflow = Graph()"
   ]
  },
  {
   "cell_type": "code",
   "execution_count": 62,
   "id": "acac9c26",
   "metadata": {},
   "outputs": [
    {
     "data": {
      "text/plain": [
       "<langgraph.graph.graph.Graph at 0x1d460150850>"
      ]
     },
     "execution_count": 62,
     "metadata": {},
     "output_type": "execute_result"
    }
   ],
   "source": [
    "workflow.add_node(\"function1\", function1)\n"
   ]
  },
  {
   "cell_type": "code",
   "execution_count": 63,
   "id": "f1a4fa66",
   "metadata": {},
   "outputs": [
    {
     "data": {
      "text/plain": [
       "<langgraph.graph.graph.Graph at 0x1d460150850>"
      ]
     },
     "execution_count": 63,
     "metadata": {},
     "output_type": "execute_result"
    }
   ],
   "source": [
    "workflow.add_node(\"function2\", function2)"
   ]
  },
  {
   "cell_type": "code",
   "execution_count": 64,
   "id": "4261a39b",
   "metadata": {},
   "outputs": [
    {
     "data": {
      "text/plain": [
       "<langgraph.graph.graph.Graph at 0x1d460150850>"
      ]
     },
     "execution_count": 64,
     "metadata": {},
     "output_type": "execute_result"
    }
   ],
   "source": [
    "workflow.add_edge(\"function1\", \"function2\")"
   ]
  },
  {
   "cell_type": "code",
   "execution_count": 65,
   "id": "25449b62",
   "metadata": {},
   "outputs": [
    {
     "data": {
      "text/plain": [
       "<langgraph.graph.graph.Graph at 0x1d460150850>"
      ]
     },
     "execution_count": 65,
     "metadata": {},
     "output_type": "execute_result"
    }
   ],
   "source": [
    "workflow.set_entry_point(\"function1\")"
   ]
  },
  {
   "cell_type": "code",
   "execution_count": 66,
   "id": "6341eed4",
   "metadata": {},
   "outputs": [
    {
     "data": {
      "text/plain": [
       "<langgraph.graph.graph.Graph at 0x1d460150850>"
      ]
     },
     "execution_count": 66,
     "metadata": {},
     "output_type": "execute_result"
    }
   ],
   "source": [
    "workflow.set_finish_point(\"function2\")"
   ]
  },
  {
   "cell_type": "code",
   "execution_count": 67,
   "id": "42c3fb76",
   "metadata": {},
   "outputs": [],
   "source": [
    "app1 = workflow.compile()"
   ]
  },
  {
   "cell_type": "code",
   "execution_count": 68,
   "id": "80f51077",
   "metadata": {},
   "outputs": [
    {
     "data": {
      "image/png": "[encoded data removed]",
      "text/plain": [
       "<IPython.core.display.Image object>"
      ]
     },
     "metadata": {},
     "output_type": "display_data"
    }
   ],
   "source": [
    "from IPython.display import Image, display\n",
    "try:\n",
    "    display(Image(app1.get_graph().draw_mermaid_png()))\n",
    "except Exception as e:\n",
    "    print(e)"
   ]
  },
  {
   "cell_type": "code",
   "execution_count": 69,
   "id": "acf66809",
   "metadata": {},
   "outputs": [
    {
     "data": {
      "text/plain": [
       "'Hi there! from first function this is function 3 in between from second function'"
      ]
     },
     "execution_count": 69,
     "metadata": {},
     "output_type": "execute_result"
    }
   ],
   "source": [
    "app1.invoke(\"Hi there!\")"
   ]
  },
  {
   "cell_type": "code",
   "execution_count": 70,
   "id": "c9339653",
   "metadata": {},
   "outputs": [],
   "source": [
    "input = \"Hi There. How are you doing?\""
   ]
  },
  {
   "cell_type": "code",
   "execution_count": 71,
   "id": "54c02970",
   "metadata": {},
   "outputs": [
    {
     "name": "stdout",
     "output_type": "stream",
     "text": [
      "here is output from function1\n",
      "____________________________________________________________________________________________________\n",
      "Hi There. How are you doing? from first function\n",
      "\n",
      "\n",
      "here is output from function2\n",
      "____________________________________________________________________________________________________\n",
      "Hi There. How are you doing? from first function this is function 3 in between from second function\n",
      "\n",
      "\n"
     ]
    }
   ],
   "source": [
    "for output in app1.stream(input):\n",
    "    for key,value in output.items():\n",
    "        print(f\"here is output from {key}\")\n",
    "        print(\"_\"*100)\n",
    "        print(value)\n",
    "        print(\"\\n\")"
   ]
  },
  {
   "cell_type": "markdown",
   "id": "88581a4d",
   "metadata": {},
   "source": [
    "### Creating a workflow with LLM"
   ]
  },
  {
   "cell_type": "code",
   "execution_count": 72,
   "id": "560bdf88",
   "metadata": {},
   "outputs": [
    {
     "name": "stdout",
     "output_type": "stream",
     "text": [
      "Groq API Key retrieved successfully.\n"
     ]
    }
   ],
   "source": [
    "from dotenv import load_dotenv\n",
    "load_dotenv()\n",
    "import os\n",
    "GROQ_API_KEY = os.getenv(\"GROQ_API_KEY\")\n",
    "if GROQ_API_KEY:\n",
    "    print(\"Groq API Key retrieved successfully.\")"
   ]
  },
  {
   "cell_type": "code",
   "execution_count": 74,
   "id": "4b9a2ebb",
   "metadata": {},
   "outputs": [
    {
     "data": {
      "text/plain": [
       "\"It's nice to meet you. Is there something I can help you with or would you like to chat?\""
      ]
     },
     "execution_count": 74,
     "metadata": {},
     "output_type": "execute_result"
    }
   ],
   "source": [
    "from langchain_groq import ChatGroq\n",
    "llm = ChatGroq(model=\"llama-3.3-70b-versatile\")\n",
    "llm.invoke(\"Hi there!\").content"
   ]
  },
  {
   "cell_type": "code",
   "execution_count": 75,
   "id": "941356f9",
   "metadata": {},
   "outputs": [],
   "source": [
    "def function4(input):\n",
    "    llm = ChatGroq(model=\"llama-3.3-70b-versatile\")\n",
    "    output = llm.invoke(input).content\n",
    "    return output + \" from first function\""
   ]
  },
  {
   "cell_type": "code",
   "execution_count": 76,
   "id": "893c5894",
   "metadata": {},
   "outputs": [],
   "source": [
    "def function5(input):\n",
    "    upper_case=input.upper()\n",
    "    return upper_case + \" from second function\""
   ]
  },
  {
   "cell_type": "code",
   "execution_count": null,
   "id": "bd40c603",
   "metadata": {},
   "outputs": [],
   "source": [
    "from langgraph.graph import Graph\n",
    "workflow2 = Graph()\n",
    "workflow2.add_node(\"LLM Response\", function4)\n",
    "workflow2.add_node(\"Upper Case\",function5)\n",
    "workflow2.add_node(\"Token Counter\",function6)\n",
    "workflow2.add_edge(\"LLM Response\",\"Upper Case\")\n",
    "workflow2.set_entry_point(\"LLM Response\")\n",
    "workflow2.set_finish_point(\"Upper Case\")\n",
    "app2 = workflow2.compile()"
   ]
  },
  {
   "cell_type": "code",
   "execution_count": 78,
   "id": "9302561d",
   "metadata": {},
   "outputs": [
    {
     "data": {
      "image/png": "[encoded data removed]",
      "text/plain": [
       "<IPython.core.display.Image object>"
      ]
     },
     "metadata": {},
     "output_type": "display_data"
    }
   ],
   "source": [
    "from IPython.display import Image, display\n",
    "try:\n",
    "    display(Image(app2.get_graph().draw_mermaid_png()))\n",
    "except Exception as e:\n",
    "    print(e)"
   ]
  },
  {
   "cell_type": "code",
   "execution_count": 80,
   "id": "044025cf",
   "metadata": {},
   "outputs": [
    {
     "name": "stdout",
     "output_type": "stream",
     "text": [
      "**ARTIFICIAL INTELLIGENCE (AI)** IS A FIELD OF COMPUTER SCIENCE THAT FOCUSES ON CREATING INTELLIGENT MACHINES CAPABLE OF PERFORMING TASKS THAT TYPICALLY REQUIRE HUMAN INTELLIGENCE. THESE TASKS INCLUDE:\n",
      "\n",
      "1. **LEARNING**: AI SYSTEMS CAN LEARN FROM DATA, EXPERIENCES, OR INTERACTIONS, AND IMPROVE THEIR PERFORMANCE OVER TIME.\n",
      "2. **REASONING**: AI SYSTEMS CAN DRAW INFERENCES, MAKE DECISIONS, AND SOLVE PROBLEMS USING LOGICAL RULES AND ALGORITHMS.\n",
      "3. **PERCEPTION**: AI SYSTEMS CAN INTERPRET AND UNDERSTAND DATA FROM SENSORS, SUCH AS IMAGES, SPEECH, OR TEXT.\n",
      "4. **NATURAL LANGUAGE PROCESSING (NLP)**: AI SYSTEMS CAN UNDERSTAND, GENERATE, AND PROCESS HUMAN LANGUAGE.\n",
      "\n",
      "AI SYSTEMS CAN BE CATEGORIZED INTO DIFFERENT TYPES, INCLUDING:\n",
      "\n",
      "1. **NARROW OR WEAK AI**: DESIGNED TO PERFORM A SPECIFIC TASK, SUCH AS IMAGE RECOGNITION, LANGUAGE TRANSLATION, OR GAME PLAYING.\n",
      "2. **GENERAL OR STRONG AI**: A HYPOTHETICAL AI SYSTEM THAT POSSESSES HUMAN-LIKE INTELLIGENCE, REASONING, AND DECISION-MAKING CAPABILITIES.\n",
      "3. **SUPERINTELLIGENCE**: A HIGHLY ADVANCED AI SYSTEM THAT SIGNIFICANTLY SURPASSES HUMAN INTELLIGENCE AND CAPABILITIES.\n",
      "\n",
      "AI HAS NUMEROUS APPLICATIONS ACROSS VARIOUS INDUSTRIES, INCLUDING:\n",
      "\n",
      "1. **HEALTHCARE**: MEDICAL DIAGNOSIS, PERSONALIZED MEDICINE, AND PATIENT CARE.\n",
      "2. **FINANCE**: TRADING, RISK MANAGEMENT, AND CUSTOMER SERVICE.\n",
      "3. **TRANSPORTATION**: AUTONOMOUS VEHICLES, ROUTE OPTIMIZATION, AND TRAFFIC MANAGEMENT.\n",
      "4. **EDUCATION**: ADAPTIVE LEARNING, INTELLIGENT TUTORING, AND STUDENT ASSESSMENT.\n",
      "\n",
      "THE BENEFITS OF AI INCLUDE:\n",
      "\n",
      "1. **IMPROVED EFFICIENCY**: AUTOMATION OF REPETITIVE AND MUNDANE TASKS.\n",
      "2. **ENHANCED DECISION-MAKING**: DATA-DRIVEN INSIGHTS AND PREDICTIVE ANALYTICS.\n",
      "3. **INCREASED ACCURACY**: REDUCED ERRORS AND IMPROVED PRECISION.\n",
      "4. **PERSONALIZATION**: TAILORED EXPERIENCES AND RECOMMENDATIONS.\n",
      "\n",
      "HOWEVER, AI ALSO RAISES CONCERNS ABOUT:\n",
      "\n",
      "1. **JOB DISPLACEMENT**: AUTOMATION OF JOBS AND POTENTIAL UNEMPLOYMENT.\n",
      "2. **BIAS AND FAIRNESS**: POTENTIAL BIASES IN AI DECISION-MAKING AND OUTCOMES.\n",
      "3. **SECURITY AND PRIVACY**: RISKS OF DATA BREACHES AND UNAUTHORIZED ACCESS.\n",
      "4. **ETHICS AND ACCOUNTABILITY**: ENSURING AI SYSTEMS ARE TRANSPARENT, EXPLAINABLE, AND ACCOUNTABLE.\n",
      "\n",
      "AS AI CONTINUES TO EVOLVE AND IMPROVE, IT'S ESSENTIAL TO ADDRESS THESE CHALLENGES AND ENSURE THAT AI IS DEVELOPED AND USED RESPONSIBLY, FOR THE BENEFIT OF HUMANITY. FROM FIRST FUNCTION from second function\n"
     ]
    }
   ],
   "source": [
    "print(app2.invoke(\"What is AI?\"))"
   ]
  },
  {
   "cell_type": "markdown",
   "id": "8ba1ed8e",
   "metadata": {},
   "source": [
    "**ARTIFICIAL INTELLIGENCE (AI)** IS A FIELD OF COMPUTER SCIENCE THAT FOCUSES ON CREATING INTELLIGENT MACHINES CAPABLE OF PERFORMING TASKS THAT TYPICALLY REQUIRE HUMAN INTELLIGENCE. THESE TASKS INCLUDE:\n",
    "\n",
    "1. **LEARNING**: AI SYSTEMS CAN LEARN FROM DATA, EXPERIENCES, OR INTERACTIONS, AND IMPROVE THEIR PERFORMANCE OVER TIME.\n",
    "2. **REASONING**: AI SYSTEMS CAN DRAW INFERENCES, MAKE DECISIONS, AND SOLVE PROBLEMS USING LOGICAL RULES AND ALGORITHMS.\n",
    "3. **PERCEPTION**: AI SYSTEMS CAN INTERPRET AND UNDERSTAND DATA FROM SENSORS, SUCH AS IMAGES, SPEECH, OR TEXT.\n",
    "4. **NATURAL LANGUAGE PROCESSING (NLP)**: AI SYSTEMS CAN UNDERSTAND, GENERATE, AND PROCESS HUMAN LANGUAGE.\n",
    "\n",
    "AI SYSTEMS CAN BE CATEGORIZED INTO DIFFERENT TYPES, INCLUDING:\n",
    "\n",
    "1. **NARROW OR WEAK AI**: DESIGNED TO PERFORM A SPECIFIC TASK, SUCH AS IMAGE RECOGNITION, LANGUAGE TRANSLATION, OR GAME PLAYING.\n",
    "2. **GENERAL OR STRONG AI**: A HYPOTHETICAL AI SYSTEM THAT POSSESSES HUMAN-LIKE INTELLIGENCE, REASONING, AND DECISION-MAKING CAPABILITIES.\n",
    "3. **SUPERINTELLIGENCE**: A HIGHLY ADVANCED AI SYSTEM THAT SIGNIFICANTLY SURPASSES HUMAN INTELLIGENCE AND CAPABILITIES.\n",
    "\n",
    "AI HAS NUMEROUS APPLICATIONS ACROSS VARIOUS INDUSTRIES, INCLUDING:\n",
    "\n",
    "1. **HEALTHCARE**: MEDICAL DIAGNOSIS, PERSONALIZED MEDICINE, AND PATIENT CARE.\n",
    "2. **FINANCE**: TRADING, RISK MANAGEMENT, AND CUSTOMER SERVICE.\n",
    "3. **TRANSPORTATION**: AUTONOMOUS VEHICLES, ROUTE OPTIMIZATION, AND TRAFFIC MANAGEMENT.\n",
    "4. **EDUCATION**: ADAPTIVE LEARNING, INTELLIGENT TUTORING, AND STUDENT ASSESSMENT.\n",
    "\n",
    "THE BENEFITS OF AI INCLUDE:\n",
    "\n",
    "1. **IMPROVED EFFICIENCY**: AUTOMATION OF REPETITIVE AND MUNDANE TASKS.\n",
    "2. **ENHANCED DECISION-MAKING**: DATA-DRIVEN INSIGHTS AND PREDICTIVE ANALYTICS.\n",
    "3. **INCREASED ACCURACY**: REDUCED ERRORS AND IMPROVED PRECISION.\n",
    "4. **PERSONALIZATION**: TAILORED EXPERIENCES AND RECOMMENDATIONS.\n",
    "\n",
    "HOWEVER, AI ALSO RAISES CONCERNS ABOUT:\n",
    "\n",
    "1. **JOB DISPLACEMENT**: AUTOMATION OF JOBS AND POTENTIAL UNEMPLOYMENT.\n",
    "2. **BIAS AND FAIRNESS**: POTENTIAL BIASES IN AI DECISION-MAKING AND OUTCOMES.\n",
    "3. **SECURITY AND PRIVACY**: RISKS OF DATA BREACHES AND UNAUTHORIZED ACCESS.\n",
    "4. **ETHICS AND ACCOUNTABILITY**: ENSURING AI SYSTEMS ARE TRANSPARENT, EXPLAINABLE, AND ACCOUNTABLE.\n",
    "\n",
    "AS AI CONTINUES TO EVOLVE AND IMPROVE, IT'S ESSENTIAL TO ADDRESS THESE CHALLENGES AND ENSURE THAT AI IS DEVELOPED AND USED RESPONSIBLY, FOR THE BENEFIT OF HUMANITY. FROM FIRST FUNCTION from second function"
   ]
  },
  {
   "cell_type": "code",
   "execution_count": 81,
   "id": "44f36f35",
   "metadata": {},
   "outputs": [
    {
     "name": "stdout",
     "output_type": "stream",
     "text": [
      "here is output from LLM Response\n",
      "____________________________________________________________________________________________________\n",
      "I'm doing well, thanks for asking. I'm a large language model, so I don't have emotions or feelings like humans do, but I'm functioning properly and ready to help with any questions or topics you'd like to discuss. How about you? How's your day going so far? from first function\n",
      "\n",
      "\n",
      "here is output from Upper Case\n",
      "____________________________________________________________________________________________________\n",
      "I'M DOING WELL, THANKS FOR ASKING. I'M A LARGE LANGUAGE MODEL, SO I DON'T HAVE EMOTIONS OR FEELINGS LIKE HUMANS DO, BUT I'M FUNCTIONING PROPERLY AND READY TO HELP WITH ANY QUESTIONS OR TOPICS YOU'D LIKE TO DISCUSS. HOW ABOUT YOU? HOW'S YOUR DAY GOING SO FAR? FROM FIRST FUNCTION from second function\n",
      "\n",
      "\n"
     ]
    }
   ],
   "source": [
    "for output in app2.stream(input):\n",
    "    for key,value in output.items():\n",
    "        print(f\"here is output from {key}\")\n",
    "        print(\"_\"*100)\n",
    "        print(value)\n",
    "        print(\"\\n\")"
   ]
  },
  {
   "cell_type": "markdown",
   "id": "67d964e0",
   "metadata": {},
   "source": [
    "### Creating our own Token Counter"
   ]
  },
  {
   "cell_type": "code",
   "execution_count": 90,
   "id": "3506b9a8",
   "metadata": {},
   "outputs": [],
   "source": [
    "def function6(input):\n",
    "    print(input)\n",
    "    tokens = input.split(\" \")\n",
    "    total_tokens = len(tokens)\n",
    "    return f\"{total_tokens} is Total Tokens . Also from Token Counter\""
   ]
  },
  {
   "cell_type": "code",
   "execution_count": 91,
   "id": "e3db331b",
   "metadata": {},
   "outputs": [],
   "source": [
    "from langgraph.graph import Graph\n",
    "workflow3 = Graph()\n",
    "workflow3.add_node(\"LLM Response\", function4)\n",
    "workflow3.add_node(\"Upper Case\",function5)\n",
    "workflow3.add_node(\"Token Counter\",function6)\n",
    "workflow3.add_edge(\"LLM Response\",\"Upper Case\")\n",
    "workflow3.add_edge(\"Upper Case\",\"Token Counter\")\n",
    "workflow3.set_entry_point(\"LLM Response\")\n",
    "workflow3.set_finish_point(\"Token Counter\")\n",
    "app3 = workflow3.compile()"
   ]
  },
  {
   "cell_type": "code",
   "execution_count": 92,
   "id": "1afe9324",
   "metadata": {},
   "outputs": [
    {
     "data": {
      "image/png": "[encoded data removed]",
      "text/plain": [
       "<IPython.core.display.Image object>"
      ]
     },
     "metadata": {},
     "output_type": "display_data"
    }
   ],
   "source": [
    "from IPython.display import Image, display\n",
    "try:\n",
    "    display(Image(app3.get_graph().draw_mermaid_png()))\n",
    "except Exception as e:\n",
    "    print(e)"
   ]
  },
  {
   "cell_type": "code",
   "execution_count": null,
   "id": "00fa03b5",
   "metadata": {},
   "outputs": [],
   "source": [
    "print(app3.invoke(\"What is AI?\"))"
   ]
  },
  {
   "cell_type": "code",
   "execution_count": null,
   "id": "99ee2255",
   "metadata": {},
   "outputs": [],
   "source": [
    "input = \"What is AI?\"\n",
    "for output in app3.stream(input):\n",
    "    for key,value in output.items():\n",
    "        print(f\"here is output from {key}\")\n",
    "        print(\"_\"*100)\n",
    "        print(value)\n",
    "        print(\"\\n\")"
   ]
  },
  {
   "cell_type": "markdown",
   "id": "871d36b4",
   "metadata": {},
   "source": [
    "here is output from LLM Response\n",
    "____________________________________________________________________________________________________\n",
    "**Artificial Intelligence (AI)** is a field of computer science that focuses on creating intelligent machines that can think, learn, and act like humans. AI involves the development of algorithms, statistical models, and computer programs that enable machines to perform tasks that typically require human intelligence, such as:\n",
    "\n",
    "1. **Reasoning**: Drawing inferences, making decisions, and solving problems.\n",
    "2. **Learning**: Adapting to new data, identifying patterns, and improving performance over time.\n",
    "3. **Problem-solving**: Finding solutions to complex problems, often through trial and error.\n",
    "4. **Perception**: Interpreting and understanding data from sensors, such as images, speech, and text.\n",
    "5. **Natural Language Processing (NLP)**: Understanding, generating, and processing human language.\n",
    "\n",
    "AI can be categorized into several types, including:\n",
    "\n",
    "1. **Narrow or Weak AI**: Designed to perform a specific task, such as facial recognition, language translation, or playing chess.\n",
    "2. **General or Strong AI**: A hypothetical AI system that possesses human-like intelligence, reasoning, and problem-solving abilities.\n",
    "3. **Superintelligence**: An AI system that significantly surpasses human intelligence, potentially leading to significant societal implications.\n",
    "\n",
    "AI has numerous applications across various industries, including:\n",
    "\n",
    "1. **Healthcare**: Medical diagnosis, personalized medicine, and patient care.\n",
    "2. **Finance**: Risk analysis, portfolio management, and trading.\n",
    "3. **Transportation**: Autonomous vehicles, route optimization, and traffic management.\n",
    "4. **Customer Service**: Chatbots, virtual assistants, and sentiment analysis.\n",
    "5. **Cybersecurity**: Threat detection, incident response, and security analytics.\n",
    "\n",
    "The benefits of AI include:\n",
    "\n",
    "1. **Improved Efficiency**: Automating tasks, reducing manual labor, and increasing productivity.\n",
    "2. **Enhanced Decision-Making**: Providing data-driven insights, predictive analytics, and recommendations.\n",
    "3. **Personalization**: Offering tailored experiences, recommendations, and services.\n",
    "4. **Innovation**: Enabling new products, services, and business models.\n",
    "\n",
    "However, AI also raises concerns about:\n",
    "\n",
    "1. **Job Displacement**: Replacing human workers with automated systems.\n",
    "2. **Bias and Fairness**: Ensuring AI systems are fair, transparent, and unbiased.\n",
    "3. **Security and Privacy**: Protecting sensitive data and preventing AI-powered cyber threats.\n",
    "4. **Accountability**: Establishing responsibility and accountability for AI-driven decisions and actions.\n",
    "\n",
    "As AI continues to evolve and improve, it's essential to address these challenges and ensure that AI development is aligned with human values, ethics, and societal needs. from first function\n",
    "\n",
    "\n",
    "here is output from Upper Case\n",
    "____________________________________________________________________________________________________\n",
    "**ARTIFICIAL INTELLIGENCE (AI)** IS A FIELD OF COMPUTER SCIENCE THAT FOCUSES ON CREATING INTELLIGENT MACHINES THAT CAN THINK, LEARN, AND ACT LIKE HUMANS. AI INVOLVES THE DEVELOPMENT OF ALGORITHMS, STATISTICAL MODELS, AND COMPUTER PROGRAMS THAT ENABLE MACHINES TO PERFORM TASKS THAT TYPICALLY REQUIRE HUMAN INTELLIGENCE, SUCH AS:\n",
    "\n",
    "1. **REASONING**: DRAWING INFERENCES, MAKING DECISIONS, AND SOLVING PROBLEMS.\n",
    "2. **LEARNING**: ADAPTING TO NEW DATA, IDENTIFYING PATTERNS, AND IMPROVING PERFORMANCE OVER TIME.\n",
    "3. **PROBLEM-SOLVING**: FINDING SOLUTIONS TO COMPLEX PROBLEMS, OFTEN THROUGH TRIAL AND ERROR.\n",
    "4. **PERCEPTION**: INTERPRETING AND UNDERSTANDING DATA FROM SENSORS, SUCH AS IMAGES, SPEECH, AND TEXT.\n",
    "5. **NATURAL LANGUAGE PROCESSING (NLP)**: UNDERSTANDING, GENERATING, AND PROCESSING HUMAN LANGUAGE.\n",
    "\n",
    "AI CAN BE CATEGORIZED INTO SEVERAL TYPES, INCLUDING:\n",
    "\n",
    "1. **NARROW OR WEAK AI**: DESIGNED TO PERFORM A SPECIFIC TASK, SUCH AS FACIAL RECOGNITION, LANGUAGE TRANSLATION, OR PLAYING CHESS.\n",
    "2. **GENERAL OR STRONG AI**: A HYPOTHETICAL AI SYSTEM THAT POSSESSES HUMAN-LIKE INTELLIGENCE, REASONING, AND PROBLEM-SOLVING ABILITIES.\n",
    "3. **SUPERINTELLIGENCE**: AN AI SYSTEM THAT SIGNIFICANTLY SURPASSES HUMAN INTELLIGENCE, POTENTIALLY LEADING TO SIGNIFICANT SOCIETAL IMPLICATIONS.\n",
    "\n",
    "AI HAS NUMEROUS APPLICATIONS ACROSS VARIOUS INDUSTRIES, INCLUDING:\n",
    "\n",
    "1. **HEALTHCARE**: MEDICAL DIAGNOSIS, PERSONALIZED MEDICINE, AND PATIENT CARE.\n",
    "2. **FINANCE**: RISK ANALYSIS, PORTFOLIO MANAGEMENT, AND TRADING.\n",
    "3. **TRANSPORTATION**: AUTONOMOUS VEHICLES, ROUTE OPTIMIZATION, AND TRAFFIC MANAGEMENT.\n",
    "4. **CUSTOMER SERVICE**: CHATBOTS, VIRTUAL ASSISTANTS, AND SENTIMENT ANALYSIS.\n",
    "5. **CYBERSECURITY**: THREAT DETECTION, INCIDENT RESPONSE, AND SECURITY ANALYTICS.\n",
    "\n",
    "THE BENEFITS OF AI INCLUDE:\n",
    "\n",
    "1. **IMPROVED EFFICIENCY**: AUTOMATING TASKS, REDUCING MANUAL LABOR, AND INCREASING PRODUCTIVITY.\n",
    "2. **ENHANCED DECISION-MAKING**: PROVIDING DATA-DRIVEN INSIGHTS, PREDICTIVE ANALYTICS, AND RECOMMENDATIONS.\n",
    "3. **PERSONALIZATION**: OFFERING TAILORED EXPERIENCES, RECOMMENDATIONS, AND SERVICES.\n",
    "4. **INNOVATION**: ENABLING NEW PRODUCTS, SERVICES, AND BUSINESS MODELS.\n",
    "\n",
    "HOWEVER, AI ALSO RAISES CONCERNS ABOUT:\n",
    "\n",
    "1. **JOB DISPLACEMENT**: REPLACING HUMAN WORKERS WITH AUTOMATED SYSTEMS.\n",
    "2. **BIAS AND FAIRNESS**: ENSURING AI SYSTEMS ARE FAIR, TRANSPARENT, AND UNBIASED.\n",
    "3. **SECURITY AND PRIVACY**: PROTECTING SENSITIVE DATA AND PREVENTING AI-POWERED CYBER THREATS.\n",
    "4. **ACCOUNTABILITY**: ESTABLISHING RESPONSIBILITY AND ACCOUNTABILITY FOR AI-DRIVEN DECISIONS AND ACTIONS.\n",
    "\n",
    "AS AI CONTINUES TO EVOLVE AND IMPROVE, IT'S ESSENTIAL TO ADDRESS THESE CHALLENGES AND ENSURE THAT AI DEVELOPMENT IS ALIGNED WITH HUMAN VALUES, ETHICS, AND SOCIETAL NEEDS. FROM FIRST FUNCTION from second function\n",
    "\n",
    "\n",
    "**ARTIFICIAL INTELLIGENCE (AI)** IS A FIELD OF COMPUTER SCIENCE THAT FOCUSES ON CREATING INTELLIGENT MACHINES THAT CAN THINK, LEARN, AND ACT LIKE HUMANS. AI INVOLVES THE DEVELOPMENT OF ALGORITHMS, STATISTICAL MODELS, AND COMPUTER PROGRAMS THAT ENABLE MACHINES TO PERFORM TASKS THAT TYPICALLY REQUIRE HUMAN INTELLIGENCE, SUCH AS:\n",
    "\n",
    "1. **REASONING**: DRAWING INFERENCES, MAKING DECISIONS, AND SOLVING PROBLEMS.\n",
    "2. **LEARNING**: ADAPTING TO NEW DATA, IDENTIFYING PATTERNS, AND IMPROVING PERFORMANCE OVER TIME.\n",
    "3. **PROBLEM-SOLVING**: FINDING SOLUTIONS TO COMPLEX PROBLEMS, OFTEN THROUGH TRIAL AND ERROR.\n",
    "4. **PERCEPTION**: INTERPRETING AND UNDERSTANDING DATA FROM SENSORS, SUCH AS IMAGES, SPEECH, AND TEXT.\n",
    "5. **NATURAL LANGUAGE PROCESSING (NLP)**: UNDERSTANDING, GENERATING, AND PROCESSING HUMAN LANGUAGE.\n",
    "\n",
    "AI CAN BE CATEGORIZED INTO SEVERAL TYPES, INCLUDING:\n",
    "\n",
    "1. **NARROW OR WEAK AI**: DESIGNED TO PERFORM A SPECIFIC TASK, SUCH AS FACIAL RECOGNITION, LANGUAGE TRANSLATION, OR PLAYING CHESS.\n",
    "2. **GENERAL OR STRONG AI**: A HYPOTHETICAL AI SYSTEM THAT POSSESSES HUMAN-LIKE INTELLIGENCE, REASONING, AND PROBLEM-SOLVING ABILITIES.\n",
    "3. **SUPERINTELLIGENCE**: AN AI SYSTEM THAT SIGNIFICANTLY SURPASSES HUMAN INTELLIGENCE, POTENTIALLY LEADING TO SIGNIFICANT SOCIETAL IMPLICATIONS.\n",
    "\n",
    "AI HAS NUMEROUS APPLICATIONS ACROSS VARIOUS INDUSTRIES, INCLUDING:\n",
    "\n",
    "1. **HEALTHCARE**: MEDICAL DIAGNOSIS, PERSONALIZED MEDICINE, AND PATIENT CARE.\n",
    "2. **FINANCE**: RISK ANALYSIS, PORTFOLIO MANAGEMENT, AND TRADING.\n",
    "3. **TRANSPORTATION**: AUTONOMOUS VEHICLES, ROUTE OPTIMIZATION, AND TRAFFIC MANAGEMENT.\n",
    "4. **CUSTOMER SERVICE**: CHATBOTS, VIRTUAL ASSISTANTS, AND SENTIMENT ANALYSIS.\n",
    "5. **CYBERSECURITY**: THREAT DETECTION, INCIDENT RESPONSE, AND SECURITY ANALYTICS.\n",
    "\n",
    "THE BENEFITS OF AI INCLUDE:\n",
    "\n",
    "1. **IMPROVED EFFICIENCY**: AUTOMATING TASKS, REDUCING MANUAL LABOR, AND INCREASING PRODUCTIVITY.\n",
    "2. **ENHANCED DECISION-MAKING**: PROVIDING DATA-DRIVEN INSIGHTS, PREDICTIVE ANALYTICS, AND RECOMMENDATIONS.\n",
    "3. **PERSONALIZATION**: OFFERING TAILORED EXPERIENCES, RECOMMENDATIONS, AND SERVICES.\n",
    "4. **INNOVATION**: ENABLING NEW PRODUCTS, SERVICES, AND BUSINESS MODELS.\n",
    "\n",
    "HOWEVER, AI ALSO RAISES CONCERNS ABOUT:\n",
    "\n",
    "1. **JOB DISPLACEMENT**: REPLACING HUMAN WORKERS WITH AUTOMATED SYSTEMS.\n",
    "2. **BIAS AND FAIRNESS**: ENSURING AI SYSTEMS ARE FAIR, TRANSPARENT, AND UNBIASED.\n",
    "3. **SECURITY AND PRIVACY**: PROTECTING SENSITIVE DATA AND PREVENTING AI-POWERED CYBER THREATS.\n",
    "4. **ACCOUNTABILITY**: ESTABLISHING RESPONSIBILITY AND ACCOUNTABILITY FOR AI-DRIVEN DECISIONS AND ACTIONS.\n",
    "\n",
    "AS AI CONTINUES TO EVOLVE AND IMPROVE, IT'S ESSENTIAL TO ADDRESS THESE CHALLENGES AND ENSURE THAT AI DEVELOPMENT IS ALIGNED WITH HUMAN VALUES, ETHICS, AND SOCIETAL NEEDS. FROM FIRST FUNCTION from second function\n",
    "here is output from Token Counter\n",
    "____________________________________________________________________________________________________\n",
    "319 is Total Tokens . Also from Token Counter\n",
    "\n",
    "\n"
   ]
  },
  {
   "cell_type": "markdown",
   "id": "5e0cf714",
   "metadata": {},
   "source": [
    "### Question : Can we Integrate a RAG Pipeline?"
   ]
  },
  {
   "cell_type": "code",
   "execution_count": 129,
   "id": "568e81d9",
   "metadata": {},
   "outputs": [],
   "source": [
    "from langchain_google_genai import GoogleGenerativeAIEmbeddings\n",
    "embeddings = GoogleGenerativeAIEmbeddings(model = \"models/embedding-001\")"
   ]
  },
  {
   "cell_type": "code",
   "execution_count": 130,
   "id": "0474188f",
   "metadata": {},
   "outputs": [],
   "source": [
    "from langchain_google_genai import ChatGoogleGenerativeAI\n",
    "llm = ChatGoogleGenerativeAI(model=\"gemini-1.0-pro\", temperature=0.2, max_output_tokens=512)"
   ]
  },
  {
   "cell_type": "code",
   "execution_count": 131,
   "id": "7a821f15",
   "metadata": {},
   "outputs": [
    {
     "data": {
      "text/plain": [
       "\"It's nice to meet you. Is there something I can help you with or would you like to chat?\""
      ]
     },
     "execution_count": 131,
     "metadata": {},
     "output_type": "execute_result"
    }
   ],
   "source": [
    "from langchain_groq import ChatGroq\n",
    "llm = ChatGroq(model=\"llama-3.3-70b-versatile\")\n",
    "llm.invoke(\"Hi there!\").content"
   ]
  },
  {
   "cell_type": "code",
   "execution_count": 132,
   "id": "8c3187e2",
   "metadata": {},
   "outputs": [],
   "source": [
    "from langchain_core.output_parsers import StrOutputParser\n",
    "from langchain_core.prompts import ChatPromptTemplate\n",
    "from langchain_core.runnables import RunnablePassthrough\n",
    "from langchain_community.document_loaders import TextLoader, DirectoryLoader\n",
    "from langchain_community.vectorstores import Chroma\n",
    "from langchain.text_splitter import RecursiveCharacterTextSplitter"
   ]
  },
  {
   "cell_type": "code",
   "execution_count": 133,
   "id": "4d021458",
   "metadata": {},
   "outputs": [
    {
     "name": "stdout",
     "output_type": "stream",
     "text": [
      "Google API Key retrieved successfully.\n"
     ]
    }
   ],
   "source": [
    "load_dotenv()\n",
    "GOOGLE_API_KEY = os.getenv(\"GOOGLE_API_KEY\")\n",
    "if GOOGLE_API_KEY:\n",
    "    print(\"Google API Key retrieved successfully.\")"
   ]
  },
  {
   "cell_type": "code",
   "execution_count": 134,
   "id": "560997c6",
   "metadata": {},
   "outputs": [
    {
     "name": "stdout",
     "output_type": "stream",
     "text": [
      "{'source': '..\\\\data\\\\ai.txt'}\n",
      "### Applications of AI\n",
      "\n",
      "AI is pervasive in many sectors:\n",
      "page_content='### Applications of AI\n",
      "\n",
      "AI is pervasive in many sectors:' metadata={'source': '..\\\\data\\\\ai.txt'}\n",
      "page_content='### Applications of AI\n",
      "\n",
      "AI is pervasive in many sectors:' metadata={'source': '..\\\\data\\\\ai.txt'}\n",
      "page_content='- **Healthcare:** AI is used for diagnostic purposes, personalized medicine, and robotic surgeries.' metadata={'source': '..\\\\data\\\\ai.txt'}\n"
     ]
    }
   ],
   "source": [
    "loader = DirectoryLoader(\"../data\",glob=\"./*.txt\",loader_cls=TextLoader)\n",
    "docs = loader.load()\n",
    "text_splitter = RecursiveCharacterTextSplitter(chunk_size=100, chunk_overlap=50)\n",
    "new_docs = text_splitter.split_documents(documents=docs)\n",
    "\n",
    "db = Chroma.from_documents(new_docs, embeddings)\n",
    "retriever = db.as_retriever(search_kwargs={\"k\": 3})\n",
    "\n",
    "query = \"What are applications of AI?\"\n",
    "docs = retriever.get_relevant_documents(query)\n",
    "print(docs[0].metadata)\n",
    "print(docs[0].page_content)\n",
    "\n",
    "for doc in docs:\n",
    "    print(doc)"
   ]
  },
  {
   "cell_type": "code",
   "execution_count": 152,
   "id": "5a09d733",
   "metadata": {},
   "outputs": [],
   "source": [
    "def function_1(state):\n",
    "    # Convert input to a list if it's not already\n",
    "    messages = state.get('messages', [])\n",
    "    \n",
    "    # Handle different input types\n",
    "    if isinstance(messages, (set, tuple)):\n",
    "        messages = list(messages)\n",
    "    # Ensure messages is a list\n",
    "    if not isinstance(messages, list):\n",
    "        messages = [messages]\n",
    "    \n",
    "    # Get the question (last message or first if it's a dictionary)\n",
    "    if isinstance(messages[0], dict):\n",
    "        question = list(messages[0].keys())[0]\n",
    "    else:\n",
    "        question = messages[-1] if messages else \"Tell me about applications of AI\"\n",
    "\n",
    "    # Prepare prompt\n",
    "    complete_prompt = f\"Your task is to provide only the brief answer based on the user query. Don't include too much reasoning. Following is the user query: {question}\"\n",
    "    \n",
    "    # Generate response\n",
    "    response = llm.invoke(complete_prompt)\n",
    "    # Create new state with updated messages\n",
    "    new_state = state.copy()\n",
    "    new_state['messages'] = messages + [response.content]\n",
    "    return new_state\n"
   ]
  },
  {
   "cell_type": "code",
   "execution_count": 153,
   "id": "c8ff018a",
   "metadata": {},
   "outputs": [],
   "source": [
    "\n",
    "def function_2(state):\n",
    "    # Ensure messages is a list\n",
    "    messages = state.get('messages', [])\n",
    "    if isinstance(messages, (set, tuple)):\n",
    "        messages = list(messages)\n",
    "    \n",
    "    # Get the original question\n",
    "    if isinstance(messages[0], dict):\n",
    "        question = list(messages[0].keys())[0]\n",
    "    else:\n",
    "        question = messages[0]\n",
    "    \n",
    "    # Create retrieval chain\n",
    "    template = \"\"\"Answer the question based only on the following context:\n",
    "    {context}\n",
    "    Question: {question}\n",
    "    \"\"\"\n",
    "    prompt = ChatPromptTemplate.from_template(template)\n",
    "    retrieval_chain = (\n",
    "        {\"context\": retriever, \"question\": RunnablePassthrough()}\n",
    "        | prompt\n",
    "        | llm\n",
    "        | StrOutputParser()\n",
    "    )\n",
    "    \n",
    "    # Invoke the chain\n",
    "    result = retrieval_chain.invoke(question)\n",
    "    \n",
    "    # Update state\n",
    "    new_state = state.copy()\n",
    "    new_state['messages'] = messages + [result]\n",
    "    \n",
    "    return new_state\n"
   ]
  },
  {
   "cell_type": "code",
   "execution_count": 154,
   "id": "ee9a17c5",
   "metadata": {},
   "outputs": [],
   "source": [
    "# Define a Langchain graph\n",
    "workflow4 = Graph()\n",
    "workflow4.add_node(\"LLM\",function_1)\n",
    "workflow4.add_node(\"RAGTool\",function_2)\n",
    "workflow4.add_edge(\"LLM\",\"RAGTool\")\n",
    "workflow4.set_entry_point(\"LLM\")\n",
    "workflow4.set_finish_point(\"RAGTool\")\n",
    "app4 = workflow4.compile()"
   ]
  },
  {
   "cell_type": "code",
   "execution_count": 139,
   "id": "2e95c626",
   "metadata": {},
   "outputs": [
    {
     "data": {
      "image/png": "[encoded data removed]",
      "text/plain": [
       "<IPython.core.display.Image object>"
      ]
     },
     "metadata": {},
     "output_type": "display_data"
    }
   ],
   "source": [
    "from IPython.display import Image, display\n",
    "\n",
    "try:\n",
    "    display(Image(app4.get_graph().draw_mermaid_png()))\n",
    "except Exception as e:\n",
    "    # This requires some extra dependencies and is optional\n",
    "    print(e)"
   ]
  },
  {
   "cell_type": "code",
   "execution_count": 150,
   "id": "19335a1b",
   "metadata": {},
   "outputs": [],
   "source": [
    "inputs = {\"messages\": {\"Tell me about applications of AI\"}}"
   ]
  },
  {
   "cell_type": "code",
   "execution_count": 155,
   "id": "63c24205",
   "metadata": {},
   "outputs": [
    {
     "name": "stdout",
     "output_type": "stream",
     "text": [
      "Output from node 'LLM': \n",
      "----------------------------------------------------------------------------------------------------\n",
      "{'messages': ['Tell me about applications of AI', 'Applications of AI include: \\n1. Virtual Assistants\\n2. Healthcare Diagnosis\\n3. Image Recognition\\n4. Natural Language Processing\\n5. Autonomous Vehicles\\n6. Robotics\\n7. Cybersecurity\\n8. Personalized Recommendations.']}\n",
      "\n",
      "---\n",
      "\n",
      "Output from node 'RAGTool': \n",
      "----------------------------------------------------------------------------------------------------\n",
      "{'messages': ['Tell me about applications of AI', 'Applications of AI include: \\n1. Virtual Assistants\\n2. Healthcare Diagnosis\\n3. Image Recognition\\n4. Natural Language Processing\\n5. Autonomous Vehicles\\n6. Robotics\\n7. Cybersecurity\\n8. Personalized Recommendations.', 'AI is pervasive in many sectors. Additionally, a comprehensive overview of AI and its applications is available, but the specific details of these applications are not provided in the given context.']}\n",
      "\n",
      "---\n",
      "\n"
     ]
    }
   ],
   "source": [
    "# Streaming output with error handling\n",
    "try:\n",
    "    for output in app4.stream(inputs):\n",
    "        for key, value in output.items():\n",
    "            print(f\"Output from node '{key}': \")\n",
    "            print(\"-\" * 100)\n",
    "            print(value)\n",
    "        print(\"\\n---\\n\")\n",
    "except Exception as e:\n",
    "    print(f\"An error occurred: {e}\")\n",
    "    import traceback\n",
    "    traceback.print_exc()"
   ]
  },
  {
   "cell_type": "code",
   "execution_count": null,
   "id": "6fd1e1d4",
   "metadata": {},
   "outputs": [],
   "source": []
  }
 ],
 "metadata": {
  "kernelspec": {
   "display_name": ".venv",
   "language": "python",
   "name": "python3"
  },
  "language_info": {
   "codemirror_mode": {
    "name": "ipython",
    "version": 3
   },
   "file_extension": ".py",
   "mimetype": "text/x-python",
   "name": "python",
   "nbconvert_exporter": "python",
   "pygments_lexer": "ipython3",
   "version": "3.10.16"
  }
 },
 "nbformat": 4,
 "nbformat_minor": 5
}
